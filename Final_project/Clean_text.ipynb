{
 "cells": [
  {
   "cell_type": "code",
   "execution_count": 1,
   "id": "23f5013f",
   "metadata": {},
   "outputs": [],
   "source": [
    "import pandas as pd"
   ]
  },
  {
   "cell_type": "code",
   "execution_count": 11,
   "id": "1dbb1c71",
   "metadata": {},
   "outputs": [],
   "source": [
    "df = pd.read_csv('test.csv', error_bad_lines=False, )"
   ]
  },
  {
   "cell_type": "code",
   "execution_count": 12,
   "id": "ac173dd1",
   "metadata": {},
   "outputs": [],
   "source": [
    "grades = {\n",
    "    \"id\": [],\n",
    "    \"q\": [],\n",
    "    \"q\\'\": [],\n",
    "    \"r\": [],\n",
    "    \"r\\'\":[],\n",
    "}"
   ]
  },
  {
   "cell_type": "code",
   "execution_count": 13,
   "id": "77b39a81",
   "metadata": {},
   "outputs": [],
   "source": [
    "for i in range(len(df['q'])):\n",
    "    grades[\"id\"].append(df['id'][i])\n",
    "    grades[\"q\"].append(df['q'][i].strip('\"'))\n",
    "    grades[\"q\\'\"].append(df['q\\''][i].strip('\"'))\n",
    "    grades[\"r\"].append(df['r'][i].strip('\"'))\n",
    "    grades[\"r\\'\"].append(df[\"r\\'\"][i].strip('\"'))"
   ]
  },
  {
   "cell_type": "code",
   "execution_count": 14,
   "id": "df37f5e4",
   "metadata": {},
   "outputs": [],
   "source": [
    "dfout = pd.DataFrame(grades)"
   ]
  },
  {
   "cell_type": "code",
   "execution_count": 15,
   "id": "bf4a7b7b",
   "metadata": {},
   "outputs": [],
   "source": [
    "dfout.to_csv(\"train.csv\",index=False)"
   ]
  },
  {
   "cell_type": "code",
   "execution_count": 2,
   "id": "e8f031c6",
   "metadata": {},
   "outputs": [
    {
     "name": "stderr",
     "output_type": "stream",
     "text": [
      "/home/student/anaconda3/envs/mining/lib/python3.7/site-packages/IPython/core/interactiveshell.py:3553: FutureWarning: The error_bad_lines argument has been deprecated and will be removed in a future version.\n",
      "\n",
      "\n",
      "  exec(code_obj, self.user_global_ns, self.user_ns)\n"
     ]
    }
   ],
   "source": [
    "df = pd.read_csv('public.csv', error_bad_lines=False, )"
   ]
  },
  {
   "cell_type": "code",
   "execution_count": 3,
   "id": "cae6ae55",
   "metadata": {},
   "outputs": [],
   "source": [
    "grades = {\n",
    "    \"id\": [],\n",
    "    \"q\": [],\n",
    "\n",
    "    \"r\": [],\n",
    "\n",
    "}"
   ]
  },
  {
   "cell_type": "code",
   "execution_count": 4,
   "id": "392a0cf4",
   "metadata": {},
   "outputs": [],
   "source": [
    "for i in range(len(df['q'])):\n",
    "    grades[\"id\"].append(df['id'][i])\n",
    "    grades[\"q\"].append(df['q'][i].strip('\"'))\n",
    "#     grades[\"q\\'\"].append(df['q\\''][i].strip('\"'))\n",
    "    grades[\"r\"].append(df['r'][i].strip('\"'))\n",
    "#     grades[\"r\\'\"].append(df[\"r\\'\"][i].strip('\"'))"
   ]
  },
  {
   "cell_type": "code",
   "execution_count": 5,
   "id": "3a9fca36",
   "metadata": {},
   "outputs": [],
   "source": [
    "dfout = pd.DataFrame(grades)"
   ]
  },
  {
   "cell_type": "code",
   "execution_count": 6,
   "id": "880193ef",
   "metadata": {},
   "outputs": [],
   "source": [
    "dfout.to_csv(\"publicpre.csv\",index=False)"
   ]
  },
  {
   "cell_type": "code",
   "execution_count": null,
   "id": "ab252789",
   "metadata": {},
   "outputs": [],
   "source": []
  }
 ],
 "metadata": {
  "kernelspec": {
   "display_name": "Python 3 (ipykernel)",
   "language": "python",
   "name": "python3"
  },
  "language_info": {
   "codemirror_mode": {
    "name": "ipython",
    "version": 3
   },
   "file_extension": ".py",
   "mimetype": "text/x-python",
   "name": "python",
   "nbconvert_exporter": "python",
   "pygments_lexer": "ipython3",
   "version": "3.7.15"
  }
 },
 "nbformat": 4,
 "nbformat_minor": 5
}
