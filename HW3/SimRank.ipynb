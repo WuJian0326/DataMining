{
 "cells": [
  {
   "cell_type": "code",
   "execution_count": 1,
   "metadata": {
    "ExecuteTime": {
     "end_time": "2021-01-08T11:35:55.361278Z",
     "start_time": "2021-01-08T11:35:55.349739Z"
    }
   },
   "outputs": [],
   "source": [
    "import numpy as np\n",
    "import copy\n",
    "\n",
    "class Graph:\n",
    "    def __init__(self):\n",
    "        self.Nodes = []\n",
    "\n",
    "    def search(self, name):\n",
    "        \n",
    "        exist = False\n",
    "        \n",
    "        for node in self.Nodes:\n",
    "            if(node.name == name):\n",
    "                exist = True\n",
    "                break\n",
    "\n",
    "        if exist:\n",
    "            return next(node for node in self.Nodes if node.name == name)\n",
    "        \n",
    "        else:                       \n",
    "            new_node = Node(name)\n",
    "            self.Nodes.append(new_node)\n",
    "            return new_node\n",
    "\n",
    "    def addEdge(self, parent, child):\n",
    "        parent_node = self.search(parent)\n",
    "        child_node = self.search(child)\n",
    "        \n",
    "        if(child_node.name not in parent_node.children):\n",
    "            parent_node.children.append(child_node)\n",
    "        \n",
    "        if(parent_node.name not in child_node.parents):\n",
    "            child_node.parents.append(parent_node)\n",
    "\n",
    "    def display(self):\n",
    "        for node in self.Nodes:\n",
    "            print(f'{node.name} links to {[child.name for child in node.children]}')\n",
    "\n",
    "class Node:\n",
    "    def __init__(self, name):\n",
    "        self.name = name\n",
    "        self.children = []\n",
    "        self.parents = []\n"
   ]
  },
  {
   "cell_type": "code",
   "execution_count": 2,
   "metadata": {
    "ExecuteTime": {
     "end_time": "2021-01-08T11:35:55.842793Z",
     "start_time": "2021-01-08T11:35:55.832248Z"
    }
   },
   "outputs": [],
   "source": [
    "def init_graph(fname):\n",
    "    with open(fname,encoding=\"utf-8\") as f:\n",
    "        lines = f.readlines()\n",
    "\n",
    "    graph = Graph()\n",
    "\n",
    "    for line in lines:\n",
    "        [parent, child] = line.strip().split(',')\n",
    "        graph.addEdge(parent, child)\n",
    "        \n",
    "    graph.Nodes.sort(key=lambda node: int(node.name))\n",
    "\n",
    "    return graph\n"
   ]
  },
  {
   "cell_type": "code",
   "execution_count": 3,
   "metadata": {
    "ExecuteTime": {
     "end_time": "2021-01-08T11:35:56.152224Z",
     "start_time": "2021-01-08T11:35:56.136728Z"
    }
   },
   "outputs": [],
   "source": [
    "class Similarity:\n",
    "    def __init__(self, g, decayFactor):\n",
    "        self.decayFactor = decayFactor\n",
    "        self.nodeList, self.oldSim = self.init(g)\n",
    "        self.newSim = [[0] * len(self.nodeList) for i in range(len(self.nodeList))]\n",
    "\n",
    "    def init(self, g):\n",
    "        nodeList = [node.name for node in g.Nodes]\n",
    "        sim = []\n",
    "        for node1 in nodeList:\n",
    "            tempSim = []\n",
    "            for node2 in nodeList:\n",
    "                if(node1 == node2):\n",
    "                    tempSim.append(1)\n",
    "                else:\n",
    "                    tempSim.append(0)\n",
    "            sim.append(tempSim)\n",
    "\n",
    "        return nodeList, sim\n",
    "\n",
    "    def calSimRank(self, node1, node2):\n",
    "        if(node1.name == node2.name):\n",
    "            return 1.0\n",
    "\n",
    "        pNodes1 = node1.parents\n",
    "        pNodes2 = node2.parents\n",
    "\n",
    "        if(len(pNodes1) == 0 or len(pNodes2) == 0):\n",
    "            return 0.0\n",
    "\n",
    "        SimRankSum = 0\n",
    "        for node1 in pNodes1:\n",
    "            for node2 in pNodes2:\n",
    "                node1Idx = self.nodeList.index(node1.name)\n",
    "                node2Idx = self.nodeList.index(node2.name)\n",
    "                SimRankSum += self.oldSim[node1Idx][node2Idx]\n",
    "\n",
    "        newSimRank = (self.decayFactor / (len(pNodes1) * len(pNodes2))) * SimRankSum\n",
    "\n",
    "        return newSimRank\n",
    "\n",
    "    def get_sim_matrix(self):\n",
    "        return np.round(np.asarray(self.newSim), 3)"
   ]
  },
  {
   "cell_type": "code",
   "execution_count": 4,
   "metadata": {
    "ExecuteTime": {
     "end_time": "2021-01-08T11:47:21.672737Z",
     "start_time": "2021-01-08T11:47:21.325009Z"
    }
   },
   "outputs": [
    {
     "name": "stdout",
     "output_type": "stream",
     "text": [
      "graph_4\n",
      "SimRank:\n",
      "[[1.    0.36  0.349 0.354 0.338 0.415 0.292]\n",
      " [0.36  1.    0.407 0.37  0.412 0.285 0.454]\n",
      " [0.349 0.407 1.    0.45  0.39  0.448 0.451]\n",
      " [0.354 0.37  0.45  1.    0.343 0.535 0.535]\n",
      " [0.338 0.412 0.39  0.343 1.    0.273 0.412]\n",
      " [0.415 0.285 0.448 0.535 0.273 1.    0.27 ]\n",
      " [0.292 0.454 0.451 0.535 0.412 0.27  1.   ]]\n",
      "time:  0.010146141052246094\n",
      "\n",
      "graph_2\n",
      "SimRank:\n",
      "[[1. 0. 0. 0. 0.]\n",
      " [0. 1. 0. 0. 0.]\n",
      " [0. 0. 1. 0. 0.]\n",
      " [0. 0. 0. 1. 0.]\n",
      " [0. 0. 0. 0. 1.]]\n",
      "time:  0.0018856525421142578\n",
      "\n",
      "graph_3\n",
      "SimRank:\n",
      "[[1.    0.    0.667 0.   ]\n",
      " [0.    1.    0.    0.667]\n",
      " [0.667 0.    1.    0.   ]\n",
      " [0.    0.667 0.    1.   ]]\n",
      "time:  0.001184225082397461\n",
      "\n",
      "graph_1\n",
      "SimRank:\n",
      "[[1. 0. 0. 0. 0. 0.]\n",
      " [0. 1. 0. 0. 0. 0.]\n",
      " [0. 0. 1. 0. 0. 0.]\n",
      " [0. 0. 0. 1. 0. 0.]\n",
      " [0. 0. 0. 0. 1. 0.]\n",
      " [0. 0. 0. 0. 0. 1.]]\n",
      "time:  0.0010101795196533203\n",
      "\n",
      "graph_5\n",
      "SimRank:\n",
      "[[1. 0. 0. ... 0. 0. 0.]\n",
      " [0. 1. 0. ... 0. 0. 0.]\n",
      " [0. 0. 1. ... 0. 0. 0.]\n",
      " ...\n",
      " [0. 0. 0. ... 1. 0. 0.]\n",
      " [0. 0. 0. ... 0. 1. 0.]\n",
      " [0. 0. 0. ... 0. 0. 1.]]\n",
      "time:  175.6434383392334\n",
      "\n"
     ]
    }
   ],
   "source": [
    "def SimRank(g, sim, num):\n",
    "    for i in range(num):\n",
    "        for node1 in g.Nodes:\n",
    "            for node2 in g.Nodes:\n",
    "                rank = sim.calSimRank(node1, node2)\n",
    "                node1_idx = sim.nodeList.index(node1.name)\n",
    "                node2_idx = sim.nodeList.index(node2.name)\n",
    "                sim.newSim[node1_idx][node2_idx] = rank\n",
    "\n",
    "                \n",
    "        sim.oldSim = copy.deepcopy(sim.newSim)\n",
    "\n",
    "\n",
    "import os\n",
    "import time\n",
    "if __name__ == '__main__':\n",
    "\n",
    "    decay_factor = 0.8\n",
    "    it = 30\n",
    "    result_dir = 'result'\n",
    "    data_path = './hw3dataset/'\n",
    "    for file_name in os.listdir(data_path):\n",
    "        if(file_name == \"IBM.txt\" or file_name == \"graph_6.txt\"):\n",
    "            continue\n",
    "        file_path = data_path + file_name\n",
    "        fname = file_path.split('/')[-1].split('.')[0]\n",
    "        simrank_fname = '_SimRank.txt'\n",
    "\n",
    "        graph = init_graph(file_path)\n",
    "\n",
    "        sim = Similarity(graph, decay_factor)\n",
    "        start = time.time()\n",
    "\n",
    "        SimRank(graph, sim, it)\n",
    "        end = time.time()\n",
    "        \n",
    "        \n",
    "        print(fname)\n",
    "        ans = sim.get_sim_matrix()\n",
    "        print('SimRank:')\n",
    "        print(ans)\n",
    "        print(\"time: \",end-start)\n",
    "        print()\n",
    "        path = os.path.join(result_dir, fname)\n",
    "        os.makedirs(path, exist_ok=True)\n",
    "        np.savetxt(os.path.join(path, fname + simrank_fname), ans, delimiter=' ', fmt='%.3f')\n"
   ]
  },
  {
   "cell_type": "code",
   "execution_count": null,
   "metadata": {},
   "outputs": [],
   "source": []
  },
  {
   "cell_type": "code",
   "execution_count": null,
   "metadata": {},
   "outputs": [],
   "source": []
  }
 ],
 "metadata": {
  "kernelspec": {
   "display_name": "Python 3 (ipykernel)",
   "language": "python",
   "name": "python3"
  },
  "language_info": {
   "codemirror_mode": {
    "name": "ipython",
    "version": 3
   },
   "file_extension": ".py",
   "mimetype": "text/x-python",
   "name": "python",
   "nbconvert_exporter": "python",
   "pygments_lexer": "ipython3",
   "version": "3.8.13"
  },
  "varInspector": {
   "cols": {
    "lenName": 16,
    "lenType": 16,
    "lenVar": 40
   },
   "kernels_config": {
    "python": {
     "delete_cmd_postfix": "",
     "delete_cmd_prefix": "del ",
     "library": "var_list.py",
     "varRefreshCmd": "print(var_dic_list())"
    },
    "r": {
     "delete_cmd_postfix": ") ",
     "delete_cmd_prefix": "rm(",
     "library": "var_list.r",
     "varRefreshCmd": "cat(var_dic_list()) "
    }
   },
   "types_to_exclude": [
    "module",
    "function",
    "builtin_function_or_method",
    "instance",
    "_Feature"
   ],
   "window_display": false
  }
 },
 "nbformat": 4,
 "nbformat_minor": 4
}
